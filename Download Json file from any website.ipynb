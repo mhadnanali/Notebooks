{
 "cells": [
  {
   "cell_type": "code",
   "execution_count": null,
   "id": "d7191b9d",
   "metadata": {},
   "outputs": [],
   "source": [
    "#File downloader \n",
    "import requests\n",
    "import json\n",
    "import os\n",
    "import sys\n",
    "sys.path.append('drive/gdrive/MyDrive')\n",
    "from google.colab import drive\n",
    "#Check if it is already mounted or else mount it.... \n",
    "if drive.mount('/content/gdrive')==None:\n",
    "    pass\n",
    "else:\n",
    "    drive.mount('/content/gdrive')\n",
    "\n",
    "\n",
    "#Make sure you create a folder named 'Target'\n",
    "path=\"gdrive/MyDrive/Target/\"\n",
    "url = requests.get(\"https://github.com/pmernyei/wiki-cs-dataset/raw/master/dataset/data.json\")\n",
    "text = url.text\n",
    "data = json.loads(text)\n",
    "filname='data' #output file name \n",
    "jsonFile = open(path+filname+'.json', \"a+\",encoding='utf-8')\n",
    "json_str = json.dumps(data)\n",
    "jsonFile.write(json_str)"
   ]
  }
 ],
 "metadata": {
  "kernelspec": {
   "display_name": "Python 3 (ipykernel)",
   "language": "python",
   "name": "python3"
  },
  "language_info": {
   "codemirror_mode": {
    "name": "ipython",
    "version": 3
   },
   "file_extension": ".py",
   "mimetype": "text/x-python",
   "name": "python",
   "nbconvert_exporter": "python",
   "pygments_lexer": "ipython3",
   "version": "3.9.7"
  }
 },
 "nbformat": 4,
 "nbformat_minor": 5
}
